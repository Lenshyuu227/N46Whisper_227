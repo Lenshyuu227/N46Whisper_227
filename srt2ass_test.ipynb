{
 "cells": [
  {
   "cell_type": "code",
   "execution_count": null,
   "metadata": {},
   "outputs": [],
   "source": [
    "with open(\"testData/20230211.srt\", encoding=\"utf-8\") as f:\n",
    "    s = f.read()\n",
    "    print(s)"
   ]
  },
  {
   "cell_type": "code",
   "execution_count": null,
   "metadata": {},
   "outputs": [],
   "source": [
    "from srt2ass import srt2ass\n",
    "assSub = srt2ass(\"testData/20230211.srt\", '227CN', \"Yes\")\n",
    "with open(\"testData/20230211.ass\", encoding=\"utf-8\") as f:\n",
    "    s = f.read()\n",
    "    print(s)"
   ]
  }
 ],
 "metadata": {
  "kernelspec": {
   "display_name": "Python 3",
   "language": "python",
   "name": "python3"
  },
  "language_info": {
   "codemirror_mode": {
    "name": "ipython",
    "version": 3
   },
   "file_extension": ".py",
   "mimetype": "text/x-python",
   "name": "python",
   "nbconvert_exporter": "python",
   "pygments_lexer": "ipython3",
   "version": "3.9.0"
  },
  "orig_nbformat": 4,
  "vscode": {
   "interpreter": {
    "hash": "4469ad985f5aeb261b8e405e38e1510deee77a9ada27a4b8d819f8ada942dddf"
   }
  }
 },
 "nbformat": 4,
 "nbformat_minor": 2
}
